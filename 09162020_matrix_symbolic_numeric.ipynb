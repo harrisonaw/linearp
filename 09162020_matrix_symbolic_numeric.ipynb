{
 "cells": [
  {
   "cell_type": "markdown",
   "metadata": {},
   "source": [
    "Symbolic"
   ]
  },
  {
   "cell_type": "code",
   "execution_count": 2,
   "metadata": {},
   "outputs": [],
   "source": [
    "import sympy as sp\n",
    "import numpy as np"
   ]
  },
  {
   "cell_type": "code",
   "execution_count": 3,
   "metadata": {},
   "outputs": [],
   "source": [
    "G11, G12, G21, G22 = sp.symbols('G11, G12, G21, G22')"
   ]
  },
  {
   "cell_type": "code",
   "execution_count": 4,
   "metadata": {},
   "outputs": [
    {
     "data": {
      "text/latex": [
       "$\\displaystyle \\left[\\begin{matrix}G_{11} & G_{12}\\\\G_{21} & G_{22}\\end{matrix}\\right]$"
      ],
      "text/plain": [
       "Matrix([\n",
       "[G11, G12],\n",
       "[G21, G22]])"
      ]
     },
     "execution_count": 4,
     "metadata": {},
     "output_type": "execute_result"
    }
   ],
   "source": [
    "G = sp.Matrix([[G11, G12], [G21, G22]])\n",
    "G"
   ]
  },
  {
   "cell_type": "code",
   "execution_count": 5,
   "metadata": {},
   "outputs": [
    {
     "data": {
      "text/plain": [
       "(G11*G22 - G12*G21,\n",
       " Matrix([\n",
       " [ G22/(G11*G22 - G12*G21), -G12/(G11*G22 - G12*G21)],\n",
       " [-G21/(G11*G22 - G12*G21),  G11/(G11*G22 - G12*G21)]]),\n",
       " Matrix([\n",
       " [G11, G21],\n",
       " [G12, G22]]))"
      ]
     },
     "execution_count": 5,
     "metadata": {},
     "output_type": "execute_result"
    }
   ],
   "source": [
    "G.det(), G.inv(), G.T"
   ]
  },
  {
   "cell_type": "code",
   "execution_count": 6,
   "metadata": {},
   "outputs": [
    {
     "data": {
      "text/plain": [
       "(Matrix([\n",
       " [ G11**2 + G12*G21, G11*G12 + G12*G22],\n",
       " [G11*G21 + G21*G22,  G12*G21 + G22**2]]),\n",
       " Matrix([\n",
       " [2*G11, 2*G12],\n",
       " [2*G21, 2*G22]]),\n",
       " Matrix([\n",
       " [G11**2, G12**2],\n",
       " [G21**2, G22**2]]))"
      ]
     },
     "execution_count": 6,
     "metadata": {},
     "output_type": "execute_result"
    }
   ],
   "source": [
    "G * G, G + G, G.multiply_elementwise(G)"
   ]
  },
  {
   "cell_type": "markdown",
   "metadata": {},
   "source": [
    "numeric"
   ]
  },
  {
   "cell_type": "code",
   "execution_count": 10,
   "metadata": {},
   "outputs": [],
   "source": [
    "G = np.matrix([[1, 2], [3, 4]])"
   ]
  },
  {
   "cell_type": "code",
   "execution_count": 11,
   "metadata": {},
   "outputs": [
    {
     "data": {
      "text/plain": [
       "(-2.0000000000000004,\n",
       " matrix([[-2. ,  1. ],\n",
       "         [ 1.5, -0.5]]),\n",
       " matrix([[1, 3],\n",
       "         [2, 4]]))"
      ]
     },
     "execution_count": 11,
     "metadata": {},
     "output_type": "execute_result"
    }
   ],
   "source": [
    "np.linalg.det(G), G.I, G.T"
   ]
  },
  {
   "cell_type": "code",
   "execution_count": 12,
   "metadata": {},
   "outputs": [
    {
     "data": {
      "text/plain": [
       "(matrix([[ 7, 10],\n",
       "         [15, 22]]),\n",
       " matrix([[2, 4],\n",
       "         [6, 8]]),\n",
       " array([[ 1,  4],\n",
       "        [ 9, 16]]))"
      ]
     },
     "execution_count": 12,
     "metadata": {},
     "output_type": "execute_result"
    }
   ],
   "source": [
    "G * G, G + G, G.A * G.A"
   ]
  },
  {
   "cell_type": "code",
   "execution_count": null,
   "metadata": {},
   "outputs": [],
   "source": []
  }
 ],
 "metadata": {
  "kernelspec": {
   "display_name": "Python 3",
   "language": "python",
   "name": "python3"
  },
  "language_info": {
   "codemirror_mode": {
    "name": "ipython",
    "version": 3
   },
   "file_extension": ".py",
   "mimetype": "text/x-python",
   "name": "python",
   "nbconvert_exporter": "python",
   "pygments_lexer": "ipython3",
   "version": "3.8.3"
  }
 },
 "nbformat": 4,
 "nbformat_minor": 4
}
